{
 "cells": [
  {
   "cell_type": "code",
   "execution_count": 1,
   "metadata": {},
   "outputs": [],
   "source": [
    "import pandas as pd\n",
    "import numpy as np\n",
    "import matplotlib.pyplot as plt\n",
    "import matplotlib.dates as mdates\n",
    "import matplotlib.style as style\n",
    "import plotly as py\n",
    "from plotly.offline import init_notebook_mode, iplot\n",
    "import chart_studio.tools as tls\n",
    "import plotly.express as px\n",
    "import plotly.graph_objects as go\n",
    "from plotly.subplots import make_subplots\n",
    "import os\n",
    "import glob\n",
    "import linearmodels\n",
    "\n",
    "base = \"C:/Users/Linchen Zhang/Desktop/fall2020/linchen_robintrack/\"\n",
    "indir = \"C:/Users/Linchen Zhang/Desktop/fall2020/linchen_robintrack/robintrack-popularity-history/tmp/popularity_export\"\n",
    "clean = \"C:/Users/Linchen Zhang/Desktop/fall2020/linchen_robintrack/cleanPopularity/\""
   ]
  },
  {
   "cell_type": "code",
   "execution_count": 2,
   "metadata": {},
   "outputs": [
    {
     "data": {
      "text/html": [
       "<div>\n",
       "<style scoped>\n",
       "    .dataframe tbody tr th:only-of-type {\n",
       "        vertical-align: middle;\n",
       "    }\n",
       "\n",
       "    .dataframe tbody tr th {\n",
       "        vertical-align: top;\n",
       "    }\n",
       "\n",
       "    .dataframe thead th {\n",
       "        text-align: right;\n",
       "    }\n",
       "</style>\n",
       "<table border=\"1\" class=\"dataframe\">\n",
       "  <thead>\n",
       "    <tr style=\"text-align: right;\">\n",
       "      <th></th>\n",
       "      <th>Unnamed: 0</th>\n",
       "      <th>Date</th>\n",
       "      <th>Close</th>\n",
       "      <th>Volume</th>\n",
       "      <th>Symbol</th>\n",
       "      <th>users_holding</th>\n",
       "    </tr>\n",
       "  </thead>\n",
       "  <tbody>\n",
       "    <tr>\n",
       "      <td>0</td>\n",
       "      <td>0</td>\n",
       "      <td>2018-05-02</td>\n",
       "      <td>65.910004</td>\n",
       "      <td>2240500.0</td>\n",
       "      <td>A</td>\n",
       "      <td>590.0</td>\n",
       "    </tr>\n",
       "    <tr>\n",
       "      <td>1</td>\n",
       "      <td>1</td>\n",
       "      <td>2018-05-03</td>\n",
       "      <td>66.339996</td>\n",
       "      <td>2365900.0</td>\n",
       "      <td>A</td>\n",
       "      <td>586.0</td>\n",
       "    </tr>\n",
       "    <tr>\n",
       "      <td>2</td>\n",
       "      <td>2</td>\n",
       "      <td>2018-05-04</td>\n",
       "      <td>67.000000</td>\n",
       "      <td>1330800.0</td>\n",
       "      <td>A</td>\n",
       "      <td>587.0</td>\n",
       "    </tr>\n",
       "    <tr>\n",
       "      <td>3</td>\n",
       "      <td>3</td>\n",
       "      <td>2018-05-07</td>\n",
       "      <td>67.389999</td>\n",
       "      <td>1468700.0</td>\n",
       "      <td>A</td>\n",
       "      <td>588.0</td>\n",
       "    </tr>\n",
       "    <tr>\n",
       "      <td>4</td>\n",
       "      <td>4</td>\n",
       "      <td>2018-05-08</td>\n",
       "      <td>67.370003</td>\n",
       "      <td>1916100.0</td>\n",
       "      <td>A</td>\n",
       "      <td>576.0</td>\n",
       "    </tr>\n",
       "  </tbody>\n",
       "</table>\n",
       "</div>"
      ],
      "text/plain": [
       "   Unnamed: 0        Date      Close     Volume Symbol  users_holding\n",
       "0           0  2018-05-02  65.910004  2240500.0      A          590.0\n",
       "1           1  2018-05-03  66.339996  2365900.0      A          586.0\n",
       "2           2  2018-05-04  67.000000  1330800.0      A          587.0\n",
       "3           3  2018-05-07  67.389999  1468700.0      A          588.0\n",
       "4           4  2018-05-08  67.370003  1916100.0      A          576.0"
      ]
     },
     "execution_count": 2,
     "metadata": {},
     "output_type": "execute_result"
    }
   ],
   "source": [
    "df = pd.read_csv(base + \"users_prices.csv\")\n",
    "df.head()"
   ]
  },
  {
   "cell_type": "code",
   "execution_count": 3,
   "metadata": {},
   "outputs": [],
   "source": [
    "df['Date'] = pd.to_datetime(df['Date'])"
   ]
  },
  {
   "cell_type": "code",
   "execution_count": 4,
   "metadata": {},
   "outputs": [
    {
     "data": {
      "text/plain": [
       "Index(['Unnamed: 0', 'Close', 'Volume', 'users_holding'], dtype='object')"
      ]
     },
     "execution_count": 4,
     "metadata": {},
     "output_type": "execute_result"
    }
   ],
   "source": [
    "df = df.set_index(['Symbol','Date'])\n",
    "\n",
    "df.columns"
   ]
  },
  {
   "cell_type": "code",
   "execution_count": 5,
   "metadata": {},
   "outputs": [
    {
     "data": {
      "text/plain": [
       "MultiIndex([(   'A', '2018-05-02'),\n",
       "            (   'A', '2018-05-03'),\n",
       "            (   'A', '2018-05-04'),\n",
       "            (   'A', '2018-05-07'),\n",
       "            (   'A', '2018-05-08'),\n",
       "            (   'A', '2018-05-09'),\n",
       "            (   'A', '2018-05-10'),\n",
       "            (   'A', '2018-05-11'),\n",
       "            (   'A', '2018-05-14'),\n",
       "            (   'A', '2018-05-15'),\n",
       "            ...\n",
       "            ('ZYXI', '2020-07-20'),\n",
       "            ('ZYXI', '2020-07-21'),\n",
       "            ('ZYXI', '2020-07-22'),\n",
       "            ('ZYXI', '2020-07-23'),\n",
       "            ('ZYXI', '2020-07-24'),\n",
       "            ('ZYXI', '2020-07-27'),\n",
       "            ('ZYXI', '2020-07-28'),\n",
       "            ('ZYXI', '2020-07-29'),\n",
       "            ('ZYXI', '2020-07-30'),\n",
       "            ('ZYXI', '2020-07-31')],\n",
       "           names=['Symbol', 'Date'], length=3113966)"
      ]
     },
     "execution_count": 5,
     "metadata": {},
     "output_type": "execute_result"
    }
   ],
   "source": [
    "df.index"
   ]
  },
  {
   "cell_type": "code",
   "execution_count": 6,
   "metadata": {},
   "outputs": [
    {
     "data": {
      "text/html": [
       "<div>\n",
       "<style scoped>\n",
       "    .dataframe tbody tr th:only-of-type {\n",
       "        vertical-align: middle;\n",
       "    }\n",
       "\n",
       "    .dataframe tbody tr th {\n",
       "        vertical-align: top;\n",
       "    }\n",
       "\n",
       "    .dataframe thead th {\n",
       "        text-align: right;\n",
       "    }\n",
       "</style>\n",
       "<table border=\"1\" class=\"dataframe\">\n",
       "  <thead>\n",
       "    <tr style=\"text-align: right;\">\n",
       "      <th></th>\n",
       "      <th></th>\n",
       "      <th>Unnamed: 0</th>\n",
       "      <th>Close</th>\n",
       "      <th>Volume</th>\n",
       "      <th>users_holding</th>\n",
       "      <th>logClose</th>\n",
       "      <th>logVolume</th>\n",
       "      <th>logUsers</th>\n",
       "    </tr>\n",
       "    <tr>\n",
       "      <th>Symbol</th>\n",
       "      <th>Date</th>\n",
       "      <th></th>\n",
       "      <th></th>\n",
       "      <th></th>\n",
       "      <th></th>\n",
       "      <th></th>\n",
       "      <th></th>\n",
       "      <th></th>\n",
       "    </tr>\n",
       "  </thead>\n",
       "  <tbody>\n",
       "    <tr>\n",
       "      <td rowspan=\"5\" valign=\"top\">A</td>\n",
       "      <td>2018-05-02</td>\n",
       "      <td>0</td>\n",
       "      <td>65.910004</td>\n",
       "      <td>2240500.0</td>\n",
       "      <td>590.0</td>\n",
       "      <td>4.188290</td>\n",
       "      <td>14.622210</td>\n",
       "      <td>6.381816</td>\n",
       "    </tr>\n",
       "    <tr>\n",
       "      <td>2018-05-03</td>\n",
       "      <td>1</td>\n",
       "      <td>66.339996</td>\n",
       "      <td>2365900.0</td>\n",
       "      <td>586.0</td>\n",
       "      <td>4.194793</td>\n",
       "      <td>14.676669</td>\n",
       "      <td>6.375025</td>\n",
       "    </tr>\n",
       "    <tr>\n",
       "      <td>2018-05-04</td>\n",
       "      <td>2</td>\n",
       "      <td>67.000000</td>\n",
       "      <td>1330800.0</td>\n",
       "      <td>587.0</td>\n",
       "      <td>4.204693</td>\n",
       "      <td>14.101292</td>\n",
       "      <td>6.376727</td>\n",
       "    </tr>\n",
       "    <tr>\n",
       "      <td>2018-05-07</td>\n",
       "      <td>3</td>\n",
       "      <td>67.389999</td>\n",
       "      <td>1468700.0</td>\n",
       "      <td>588.0</td>\n",
       "      <td>4.210497</td>\n",
       "      <td>14.199889</td>\n",
       "      <td>6.378426</td>\n",
       "    </tr>\n",
       "    <tr>\n",
       "      <td>2018-05-08</td>\n",
       "      <td>4</td>\n",
       "      <td>67.370003</td>\n",
       "      <td>1916100.0</td>\n",
       "      <td>576.0</td>\n",
       "      <td>4.210200</td>\n",
       "      <td>14.465803</td>\n",
       "      <td>6.357842</td>\n",
       "    </tr>\n",
       "  </tbody>\n",
       "</table>\n",
       "</div>"
      ],
      "text/plain": [
       "                   Unnamed: 0      Close     Volume  users_holding  logClose  \\\n",
       "Symbol Date                                                                    \n",
       "A      2018-05-02           0  65.910004  2240500.0          590.0  4.188290   \n",
       "       2018-05-03           1  66.339996  2365900.0          586.0  4.194793   \n",
       "       2018-05-04           2  67.000000  1330800.0          587.0  4.204693   \n",
       "       2018-05-07           3  67.389999  1468700.0          588.0  4.210497   \n",
       "       2018-05-08           4  67.370003  1916100.0          576.0  4.210200   \n",
       "\n",
       "                   logVolume  logUsers  \n",
       "Symbol Date                             \n",
       "A      2018-05-02  14.622210  6.381816  \n",
       "       2018-05-03  14.676669  6.375025  \n",
       "       2018-05-04  14.101292  6.376727  \n",
       "       2018-05-07  14.199889  6.378426  \n",
       "       2018-05-08  14.465803  6.357842  "
      ]
     },
     "execution_count": 6,
     "metadata": {},
     "output_type": "execute_result"
    }
   ],
   "source": [
    "df['logClose'] = np.log(df['Close'])\n",
    "\n",
    "# Add 1 to volume to avoid dividing by 0 issue.\n",
    "df['logVolume'] = np.log(df['Volume']+1)\n",
    "\n",
    "# Add 1 to users number to avoid dividing by 0 issue.\n",
    "df['logUsers'] = np.log(df['users_holding']+1)\n",
    "\n",
    "df.head()\n"
   ]
  },
  {
   "cell_type": "code",
   "execution_count": 10,
   "metadata": {},
   "outputs": [],
   "source": [
    "from linearmodels.panel import PanelOLS\n",
    "from linearmodels.panel import PooledOLS\n",
    "from linearmodels.panel import RandomEffects\n",
    "from linearmodels.panel import BetweenOLS\n",
    "\n",
    "import statsmodels.api as sm\n",
    "\n",
    "exog_vars = ['logClose', 'logVolume']\n",
    "exog = sm.add_constant(df[exog_vars])\n",
    "\n"
   ]
  },
  {
   "cell_type": "code",
   "execution_count": 11,
   "metadata": {},
   "outputs": [
    {
     "name": "stdout",
     "output_type": "stream",
     "text": [
      "                          PooledOLS Estimation Summary                          \n",
      "================================================================================\n",
      "Dep. Variable:               logUsers   R-squared:                        0.4965\n",
      "Estimator:                  PooledOLS   R-squared (Between):              0.5901\n",
      "No. Observations:             3113966   R-squared (Within):              -0.3943\n",
      "Date:                Wed, Sep 23 2020   R-squared (Overall):              0.4965\n",
      "Time:                        02:45:55   Log-likelihood                -5.682e+06\n",
      "Cov. Estimator:            Unadjusted                                           \n",
      "                                        F-statistic:                   1.535e+06\n",
      "Entities:                        6780   P-value                           0.0000\n",
      "Avg Obs:                       459.29   Distribution:               F(2,3113963)\n",
      "Min Obs:                       1.0000                                           \n",
      "Max Obs:                       555.00   F-statistic (robust):          1.535e+06\n",
      "                                        P-value                           0.0000\n",
      "Time periods:                     555   Distribution:               F(2,3113963)\n",
      "Avg Obs:                       5610.7                                           \n",
      "Min Obs:                       4587.0                                           \n",
      "Max Obs:                       6352.0                                           \n",
      "                                                                                \n",
      "                             Parameter Estimates                              \n",
      "==============================================================================\n",
      "            Parameter  Std. Err.     T-stat    P-value    Lower CI    Upper CI\n",
      "------------------------------------------------------------------------------\n",
      "const          0.6238     0.0038     162.42     0.0000      0.6163      0.6313\n",
      "logClose      -0.3099     0.0007    -458.91     0.0000     -0.3112     -0.3086\n",
      "logVolume      0.4817     0.0003     1705.2     0.0000      0.4812      0.4823\n",
      "==============================================================================\n"
     ]
    }
   ],
   "source": [
    "# Basic PooledOLS\n",
    "mod = PooledOLS(df['logUsers'], exog)\n",
    "pooled_res = mod.fit()\n",
    "\n",
    "print(pooled_res)"
   ]
  },
  {
   "cell_type": "code",
   "execution_count": 12,
   "metadata": {},
   "outputs": [
    {
     "name": "stdout",
     "output_type": "stream",
     "text": [
      "                        RandomEffects Estimation Summary                        \n",
      "================================================================================\n",
      "Dep. Variable:               logUsers   R-squared:                        0.1522\n",
      "Estimator:              RandomEffects   R-squared (Between):              0.1944\n",
      "No. Observations:             3113966   R-squared (Within):               0.1521\n",
      "Date:                Wed, Sep 23 2020   R-squared (Overall):              0.1639\n",
      "Time:                        02:46:03   Log-likelihood                -2.768e+06\n",
      "Cov. Estimator:            Unadjusted                                           \n",
      "                                        F-statistic:                   2.796e+05\n",
      "Entities:                        6780   P-value                           0.0000\n",
      "Avg Obs:                       459.29   Distribution:               F(2,3113963)\n",
      "Min Obs:                       1.0000                                           \n",
      "Max Obs:                       555.00   F-statistic (robust):          2.798e+05\n",
      "                                        P-value                           0.0000\n",
      "Time periods:                     555   Distribution:               F(2,3113963)\n",
      "Avg Obs:                       5610.7                                           \n",
      "Min Obs:                       4587.0                                           \n",
      "Max Obs:                       6352.0                                           \n",
      "                                                                                \n",
      "                             Parameter Estimates                              \n",
      "==============================================================================\n",
      "            Parameter  Std. Err.     T-stat    P-value    Lower CI    Upper CI\n",
      "------------------------------------------------------------------------------\n",
      "const          5.5774     0.0171     326.49     0.0000      5.5439      5.6108\n",
      "logClose      -0.6279     0.0011    -585.28     0.0000     -0.6300     -0.6258\n",
      "logVolume      0.1105     0.0003     416.72     0.0000      0.1100      0.1111\n",
      "==============================================================================\n"
     ]
    }
   ],
   "source": [
    "# Random Effect\n",
    "mod = RandomEffects(df['logUsers'], exog)\n",
    "re_res = mod.fit()\n",
    "\n",
    "print(re_res)"
   ]
  },
  {
   "cell_type": "code",
   "execution_count": 13,
   "metadata": {},
   "outputs": [
    {
     "name": "stdout",
     "output_type": "stream",
     "text": [
      "                         BetweenOLS Estimation Summary                          \n",
      "================================================================================\n",
      "Dep. Variable:               logUsers   R-squared:                        0.6032\n",
      "Estimator:                 BetweenOLS   R-squared (Between):              0.6032\n",
      "No. Observations:                6780   R-squared (Within):              -0.6391\n",
      "Date:                Wed, Sep 23 2020   R-squared (Overall):              0.4832\n",
      "Time:                        02:46:08   Log-likelihood                -1.168e+04\n",
      "Cov. Estimator:            Unadjusted                                           \n",
      "                                        F-statistic:                      5150.6\n",
      "Entities:                        6780   P-value                           0.0000\n",
      "Avg Obs:                       459.29   Distribution:                  F(2,6777)\n",
      "Min Obs:                       1.0000                                           \n",
      "Max Obs:                       555.00   F-statistic (robust):             5150.6\n",
      "                                        P-value                           0.0000\n",
      "Time periods:                     555   Distribution:                  F(2,6777)\n",
      "Avg Obs:                       5610.7                                           \n",
      "Min Obs:                       4587.0                                           \n",
      "Max Obs:                       6352.0                                           \n",
      "                                                                                \n",
      "                             Parameter Estimates                              \n",
      "==============================================================================\n",
      "            Parameter  Std. Err.     T-stat    P-value    Lower CI    Upper CI\n",
      "------------------------------------------------------------------------------\n",
      "const         -0.3460     0.0756    -4.5764     0.0000     -0.4943     -0.1978\n",
      "logClose      -0.3029     0.0137    -22.137     0.0000     -0.3297     -0.2761\n",
      "logVolume      0.5591     0.0056     99.383     0.0000      0.5480      0.5701\n",
      "==============================================================================\n"
     ]
    }
   ],
   "source": [
    "# Between estimator\n",
    "mod = BetweenOLS(df['logUsers'], exog)\n",
    "be_res = mod.fit()\n",
    "\n",
    "print(be_res)"
   ]
  },
  {
   "cell_type": "code",
   "execution_count": 14,
   "metadata": {},
   "outputs": [
    {
     "name": "stdout",
     "output_type": "stream",
     "text": [
      "                          PanelOLS Estimation Summary                           \n",
      "================================================================================\n",
      "Dep. Variable:               logUsers   R-squared:                        0.1521\n",
      "Estimator:                   PanelOLS   R-squared (Between):              0.1816\n",
      "No. Observations:             3113966   R-squared (Within):               0.1521\n",
      "Date:                Wed, Sep 23 2020   R-squared (Overall):              0.1724\n",
      "Time:                        02:46:12   Log-likelihood                -2.761e+06\n",
      "Cov. Estimator:            Unadjusted                                           \n",
      "                                        F-statistic:                   2.788e+05\n",
      "Entities:                        6780   P-value                           0.0000\n",
      "Avg Obs:                       459.29   Distribution:               F(2,3107184)\n",
      "Min Obs:                       1.0000                                           \n",
      "Max Obs:                       555.00   F-statistic (robust):          2.788e+05\n",
      "                                        P-value                           0.0000\n",
      "Time periods:                     555   Distribution:               F(2,3107184)\n",
      "Avg Obs:                       5610.7                                           \n",
      "Min Obs:                       4587.0                                           \n",
      "Max Obs:                       6352.0                                           \n",
      "                                                                                \n",
      "                             Parameter Estimates                              \n",
      "==============================================================================\n",
      "            Parameter  Std. Err.     T-stat    P-value    Lower CI    Upper CI\n",
      "------------------------------------------------------------------------------\n",
      "const          5.8159     0.0046     1257.1     0.0000      5.8068      5.8250\n",
      "logClose      -0.6303     0.0011    -586.40     0.0000     -0.6324     -0.6282\n",
      "logVolume      0.1095     0.0003     412.78     0.0000      0.1090      0.1100\n",
      "==============================================================================\n",
      "\n",
      "F-test for Poolability: 2533.7\n",
      "P-value: 0.0000\n",
      "Distribution: F(6779,3107184)\n",
      "\n",
      "Included effects: Entity\n"
     ]
    }
   ],
   "source": [
    "#Fixed Effect\n",
    "mod = PanelOLS(df['logUsers'], exog, entity_effects = True)\n",
    "fe_res = mod.fit()\n",
    "\n",
    "print(fe_res)"
   ]
  },
  {
   "cell_type": "code",
   "execution_count": 15,
   "metadata": {},
   "outputs": [
    {
     "name": "stdout",
     "output_type": "stream",
     "text": [
      "                          PanelOLS Estimation Summary                           \n",
      "================================================================================\n",
      "Dep. Variable:               logUsers   R-squared:                        0.5023\n",
      "Estimator:                   PanelOLS   R-squared (Between):              0.5907\n",
      "No. Observations:             3113966   R-squared (Within):              -0.4006\n",
      "Date:                Wed, Sep 23 2020   R-squared (Overall):              0.4964\n",
      "Time:                        02:46:17   Log-likelihood                -5.634e+06\n",
      "Cov. Estimator:            Unadjusted                                           \n",
      "                                        F-statistic:                   1.571e+06\n",
      "Entities:                        6780   P-value                           0.0000\n",
      "Avg Obs:                       459.29   Distribution:               F(2,3113409)\n",
      "Min Obs:                       1.0000                                           \n",
      "Max Obs:                       555.00   F-statistic (robust):          1.571e+06\n",
      "                                        P-value                           0.0000\n",
      "Time periods:                     555   Distribution:               F(2,3113409)\n",
      "Avg Obs:                       5610.7                                           \n",
      "Min Obs:                       4587.0                                           \n",
      "Max Obs:                       6352.0                                           \n",
      "                                                                                \n",
      "                             Parameter Estimates                              \n",
      "==============================================================================\n",
      "            Parameter  Std. Err.     T-stat    P-value    Lower CI    Upper CI\n",
      "------------------------------------------------------------------------------\n",
      "const          0.5689     0.0038     149.95     0.0000      0.5615      0.5764\n",
      "logClose      -0.2986     0.0007    -445.82     0.0000     -0.2999     -0.2973\n",
      "logVolume      0.4835     0.0003     1730.8     0.0000      0.4830      0.4841\n",
      "==============================================================================\n",
      "\n",
      "F-test for Poolability: 175.61\n",
      "P-value: 0.0000\n",
      "Distribution: F(554,3113409)\n",
      "\n",
      "Included effects: Time\n"
     ]
    }
   ],
   "source": [
    "#Time Effect\n",
    "mod = PanelOLS(df['logUsers'], exog, time_effects = True)\n",
    "te_res = mod.fit()\n",
    "\n",
    "print(te_res)"
   ]
  },
  {
   "cell_type": "code",
   "execution_count": 16,
   "metadata": {},
   "outputs": [
    {
     "name": "stdout",
     "output_type": "stream",
     "text": [
      "                          PanelOLS Estimation Summary                           \n",
      "================================================================================\n",
      "Dep. Variable:               logUsers   R-squared:                        0.0705\n",
      "Estimator:                   PanelOLS   R-squared (Between):              0.1531\n",
      "No. Observations:             3113966   R-squared (Within):               0.1237\n",
      "Date:                Wed, Sep 23 2020   R-squared (Overall):              0.1550\n",
      "Time:                        02:46:34   Log-likelihood                -2.071e+06\n",
      "Cov. Estimator:            Unadjusted                                           \n",
      "                                        F-statistic:                   1.179e+05\n",
      "Entities:                        6780   P-value                           0.0000\n",
      "Avg Obs:                       459.29   Distribution:               F(2,3106630)\n",
      "Min Obs:                       1.0000                                           \n",
      "Max Obs:                       555.00   F-statistic (robust):          1.179e+05\n",
      "                                        P-value                           0.0000\n",
      "Time periods:                     555   Distribution:               F(2,3106630)\n",
      "Avg Obs:                       5610.7                                           \n",
      "Min Obs:                       4587.0                                           \n",
      "Max Obs:                       6352.0                                           \n",
      "                                                                                \n",
      "                             Parameter Estimates                              \n",
      "==============================================================================\n",
      "            Parameter  Std. Err.     T-stat    P-value    Lower CI    Upper CI\n",
      "------------------------------------------------------------------------------\n",
      "const          5.3377     0.0038     1408.5     0.0000      5.3303      5.3451\n",
      "logClose      -0.3321     0.0009    -356.13     0.0000     -0.3340     -0.3303\n",
      "logVolume      0.0718     0.0002     327.64     0.0000      0.0714      0.0723\n",
      "==============================================================================\n",
      "\n",
      "F-test for Poolability: 3884.5\n",
      "P-value: 0.0000\n",
      "Distribution: F(7333,3106630)\n",
      "\n",
      "Included effects: Entity, Time\n"
     ]
    }
   ],
   "source": [
    "# Both Fixed and time effects\n",
    "mod = PanelOLS(df['logUsers'], exog, entity_effects = True, time_effects = True)\n",
    "fe_te_res = mod.fit()\n",
    "\n",
    "print(fe_te_res)"
   ]
  },
  {
   "cell_type": "code",
   "execution_count": 17,
   "metadata": {},
   "outputs": [
    {
     "name": "stdout",
     "output_type": "stream",
     "text": [
      "                                                  Model Comparison                                                  \n",
      "====================================================================================================================\n",
      "                                Pooled             BE                RE             FE             TE          Panel\n",
      "--------------------------------------------------------------------------------------------------------------------\n",
      "Dep. Variable                 logUsers       logUsers          logUsers       logUsers       logUsers       logUsers\n",
      "Estimator                    PooledOLS     BetweenOLS     RandomEffects       PanelOLS       PanelOLS       PanelOLS\n",
      "No. Observations               3113966           6780           3113966        3113966        3113966        3113966\n",
      "Cov. Est.                   Unadjusted     Unadjusted        Unadjusted     Unadjusted     Unadjusted     Unadjusted\n",
      "R-squared                       0.4965         0.6032            0.1522         0.1521         0.5023         0.0705\n",
      "R-Squared (Within)             -0.3943        -0.6391            0.1521         0.1521        -0.4006         0.1237\n",
      "R-Squared (Between)             0.5901         0.6032            0.1944         0.1816         0.5907         0.1531\n",
      "R-Squared (Overall)             0.4965         0.4832            0.1639         0.1724         0.4964         0.1550\n",
      "F-statistic                  1.535e+06         5150.6         2.796e+05      2.788e+05      1.571e+06      1.179e+05\n",
      "P-value (F-stat)                0.0000         0.0000            0.0000         0.0000         0.0000         0.0000\n",
      "=====================     ============   ============   ===============   ============   ============   ============\n",
      "const                           0.6238        -0.3460            5.5774         5.8159         0.5689         5.3377\n",
      "                              (162.42)      (-4.5764)          (326.49)       (1257.1)       (149.95)       (1408.5)\n",
      "logClose                       -0.3099        -0.3029           -0.6279        -0.6303        -0.2986        -0.3321\n",
      "                             (-458.91)      (-22.137)         (-585.28)      (-586.40)      (-445.82)      (-356.13)\n",
      "logVolume                       0.4817         0.5591            0.1105         0.1095         0.4835         0.0718\n",
      "                              (1705.2)       (99.383)          (416.72)       (412.78)       (1730.8)       (327.64)\n",
      "======================= ============== ============== ================= ============== ============== ==============\n",
      "Effects                                                                         Entity           Time         Entity\n",
      "                                                                                                                Time\n",
      "--------------------------------------------------------------------------------------------------------------------\n",
      "\n",
      "T-stats reported in parentheses\n"
     ]
    }
   ],
   "source": [
    "from linearmodels.panel import compare\n",
    "print(compare({'Pooled': pooled_res,'BE':be_res, 'RE':re_res, 'FE':fe_res, 'TE':te_res, 'Panel':fe_te_res}))"
   ]
  },
  {
   "cell_type": "code",
   "execution_count": null,
   "metadata": {},
   "outputs": [],
   "source": []
  }
 ],
 "metadata": {
  "kernelspec": {
   "display_name": "Python 3",
   "language": "python",
   "name": "python3"
  },
  "language_info": {
   "codemirror_mode": {
    "name": "ipython",
    "version": 3
   },
   "file_extension": ".py",
   "mimetype": "text/x-python",
   "name": "python",
   "nbconvert_exporter": "python",
   "pygments_lexer": "ipython3",
   "version": "3.7.4"
  }
 },
 "nbformat": 4,
 "nbformat_minor": 2
}
